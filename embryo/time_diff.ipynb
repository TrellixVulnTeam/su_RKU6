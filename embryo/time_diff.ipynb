{
 "metadata": {
  "language_info": {
   "codemirror_mode": {
    "name": "ipython",
    "version": 3
   },
   "file_extension": ".py",
   "mimetype": "text/x-python",
   "name": "python",
   "nbconvert_exporter": "python",
   "pygments_lexer": "ipython3",
   "version": "3.7.8-final"
  },
  "orig_nbformat": 2,
  "kernelspec": {
   "name": "python3",
   "display_name": "Python 3",
   "language": "python"
  }
 },
 "nbformat": 4,
 "nbformat_minor": 2,
 "cells": [
  {
   "cell_type": "code",
   "execution_count": 12,
   "metadata": {},
   "outputs": [],
   "source": [
    "import os\n",
    "import glob\n",
    "import pandas as pd \n",
    "import numpy as np \n"
   ]
  },
  {
   "cell_type": "code",
   "execution_count": 3,
   "metadata": {},
   "outputs": [],
   "source": [
    "embryo_lst = []\n",
    "static_lst = []\n",
    "last_lst = []\n",
    "max_lst = []\n",
    "\n",
    "for image in glob.glob('/data/embryo/method_2/*.jpg'):\n",
    "    basename = os.path.splitext(image)[0]\n",
    "    basename = basename.rsplit('/', 1)[-1]\n",
    "    embryo = basename.rsplit('_', 1)[0]\n",
    "    embryo_lst.append(embryo)\n",
    "    static_time = basename.rsplit('_', 1)[-1]\n",
    "    static_lst.append(static_time)\n",
    "    for last_img in glob.glob('/data/embryo/method_1/*.jpg'):\n",
    "        last_basename = os.path.splitext(last_img)[0]\n",
    "        last_basename = last_basename.rsplit('/', 1)[-1]\n",
    "        last_embryo = last_basename.rsplit('_', 1)[0]\n",
    "        last_time = last_basename.rsplit('_', 1)[-1]\n",
    "        if last_embryo == embryo:\n",
    "            last_lst.append(last_time)\n",
    "        else:\n",
    "            pass\n",
    "    for max_img in glob.glob('/data/embryo/method_3/*.jpg'):\n",
    "        max_basename = os.path.splitext(max_img)[0]\n",
    "        max_basename = max_basename.rsplit('/', 1)[-1]\n",
    "        max_embryo = max_basename.rsplit('_', 1)[0]\n",
    "        max_time = max_basename.rsplit('_', 1)[-1]\n",
    "        if max_embryo == embryo:\n",
    "            max_lst.append(max_time)\n",
    "        else:\n",
    "            pass\n"
   ]
  },
  {
   "cell_type": "code",
   "execution_count": 16,
   "metadata": {},
   "outputs": [
    {
     "output_type": "stream",
     "name": "stdout",
     "text": [
      "D2018_07_04_S00250_I0831_D_pdb_E2\n6805\n7021\n7021\n"
     ]
    }
   ],
   "source": [
    "print(embryo_lst[0])\n",
    "print(static_lst[0])\n",
    "print(last_lst[0])\n",
    "print(max_lst[0])"
   ]
  },
  {
   "cell_type": "code",
   "execution_count": 18,
   "metadata": {},
   "outputs": [],
   "source": [
    "method_1 = []\n",
    "method_3 = []\n",
    "\n",
    "for i in range(len(embryo_lst)):\n",
    "    static = int(static_lst[i])\n",
    "    last = int(last_lst[i])\n",
    "    max = int(max_lst[i])\n",
    "    method_1_diff = abs(static - last)\n",
    "    method_1.append(method_1_diff)\n",
    "    method_3_diff = abs(static - max)\n",
    "    method_3.append(method_3_diff)\n"
   ]
  },
  {
   "cell_type": "code",
   "execution_count": 22,
   "metadata": {},
   "outputs": [],
   "source": [
    "df = pd.DataFrame({'Embryo': embryo_lst, 'Static time': static_lst, 'Last time': last_lst, 'Max time': max_lst, 'Method 1': method_1, 'Method 3': method_3})\n"
   ]
  },
  {
   "cell_type": "code",
   "execution_count": 23,
   "metadata": {},
   "outputs": [],
   "source": [
    "df.to_csv('/home/embryosu/git/su/embryo/method_time_diff.csv')"
   ]
  },
  {
   "cell_type": "code",
   "execution_count": 4,
   "metadata": {},
   "outputs": [],
   "source": [
    "df = pd.read_csv('/home/embryosu/git/su/embryo/method_time_diff.csv')"
   ]
  },
  {
   "cell_type": "code",
   "execution_count": 5,
   "metadata": {},
   "outputs": [
    {
     "output_type": "display_data",
     "data": {
      "text/plain": "<Figure size 432x288 with 1 Axes>",
      "image/svg+xml": "<?xml version=\"1.0\" encoding=\"utf-8\" standalone=\"no\"?>\n<!DOCTYPE svg PUBLIC \"-//W3C//DTD SVG 1.1//EN\"\n  \"http://www.w3.org/Graphics/SVG/1.1/DTD/svg11.dtd\">\n<!-- Created with matplotlib (https://matplotlib.org/) -->\n<svg height=\"248.518125pt\" version=\"1.1\" viewBox=\"0 0 381.65 248.518125\" width=\"381.65pt\" xmlns=\"http://www.w3.org/2000/svg\" xmlns:xlink=\"http://www.w3.org/1999/xlink\">\n <metadata>\n  <rdf:RDF xmlns:cc=\"http://creativecommons.org/ns#\" xmlns:dc=\"http://purl.org/dc/elements/1.1/\" xmlns:rdf=\"http://www.w3.org/1999/02/22-rdf-syntax-ns#\">\n   <cc:Work>\n    <dc:type rdf:resource=\"http://purl.org/dc/dcmitype/StillImage\"/>\n    <dc:date>2021-01-01T08:15:55.956575</dc:date>\n    <dc:format>image/svg+xml</dc:format>\n    <dc:creator>\n     <cc:Agent>\n      <dc:title>Matplotlib v3.3.1, https://matplotlib.org/</dc:title>\n     </cc:Agent>\n    </dc:creator>\n   </cc:Work>\n  </rdf:RDF>\n </metadata>\n <defs>\n  <style type=\"text/css\">*{stroke-linecap:butt;stroke-linejoin:round;}</style>\n </defs>\n <g id=\"figure_1\">\n  <g id=\"patch_1\">\n   <path d=\"M -0 248.518125 \nL 381.65 248.518125 \nL 381.65 0 \nL -0 0 \nz\n\" style=\"fill:none;\"/>\n  </g>\n  <g id=\"axes_1\">\n   <g id=\"patch_2\">\n    <path d=\"M 39.65 224.64 \nL 374.45 224.64 \nL 374.45 7.2 \nL 39.65 7.2 \nz\n\" style=\"fill:#ffffff;\"/>\n   </g>\n   <g id=\"matplotlib.axis_1\">\n    <g id=\"xtick_1\">\n     <g id=\"line2d_1\">\n      <path clip-path=\"url(#p0c3dfcba9b)\" d=\"M 123.35 224.64 \nL 123.35 7.2 \n\" style=\"fill:none;stroke:#b0b0b0;stroke-linecap:square;stroke-width:0.8;\"/>\n     </g>\n     <g id=\"line2d_2\">\n      <defs>\n       <path d=\"M 0 0 \nL 0 3.5 \n\" id=\"m26f017838e\" style=\"stroke:#000000;stroke-width:0.8;\"/>\n      </defs>\n      <g>\n       <use style=\"stroke:#000000;stroke-width:0.8;\" x=\"123.35\" xlink:href=\"#m26f017838e\" y=\"224.64\"/>\n      </g>\n     </g>\n     <g id=\"text_1\">\n      <!-- Method 1 -->\n      <g transform=\"translate(99.826563 239.238437)scale(0.1 -0.1)\">\n       <defs>\n        <path d=\"M 9.8125 72.90625 \nL 24.515625 72.90625 \nL 43.109375 23.296875 \nL 61.8125 72.90625 \nL 76.515625 72.90625 \nL 76.515625 0 \nL 66.890625 0 \nL 66.890625 64.015625 \nL 48.09375 14.015625 \nL 38.1875 14.015625 \nL 19.390625 64.015625 \nL 19.390625 0 \nL 9.8125 0 \nz\n\" id=\"DejaVuSans-77\"/>\n        <path d=\"M 56.203125 29.59375 \nL 56.203125 25.203125 \nL 14.890625 25.203125 \nQ 15.484375 15.921875 20.484375 11.0625 \nQ 25.484375 6.203125 34.421875 6.203125 \nQ 39.59375 6.203125 44.453125 7.46875 \nQ 49.3125 8.734375 54.109375 11.28125 \nL 54.109375 2.78125 \nQ 49.265625 0.734375 44.1875 -0.34375 \nQ 39.109375 -1.421875 33.890625 -1.421875 \nQ 20.796875 -1.421875 13.15625 6.1875 \nQ 5.515625 13.8125 5.515625 26.8125 \nQ 5.515625 40.234375 12.765625 48.109375 \nQ 20.015625 56 32.328125 56 \nQ 43.359375 56 49.78125 48.890625 \nQ 56.203125 41.796875 56.203125 29.59375 \nz\nM 47.21875 32.234375 \nQ 47.125 39.59375 43.09375 43.984375 \nQ 39.0625 48.390625 32.421875 48.390625 \nQ 24.90625 48.390625 20.390625 44.140625 \nQ 15.875 39.890625 15.1875 32.171875 \nz\n\" id=\"DejaVuSans-101\"/>\n        <path d=\"M 18.3125 70.21875 \nL 18.3125 54.6875 \nL 36.8125 54.6875 \nL 36.8125 47.703125 \nL 18.3125 47.703125 \nL 18.3125 18.015625 \nQ 18.3125 11.328125 20.140625 9.421875 \nQ 21.96875 7.515625 27.59375 7.515625 \nL 36.8125 7.515625 \nL 36.8125 0 \nL 27.59375 0 \nQ 17.1875 0 13.234375 3.875 \nQ 9.28125 7.765625 9.28125 18.015625 \nL 9.28125 47.703125 \nL 2.6875 47.703125 \nL 2.6875 54.6875 \nL 9.28125 54.6875 \nL 9.28125 70.21875 \nz\n\" id=\"DejaVuSans-116\"/>\n        <path d=\"M 54.890625 33.015625 \nL 54.890625 0 \nL 45.90625 0 \nL 45.90625 32.71875 \nQ 45.90625 40.484375 42.875 44.328125 \nQ 39.84375 48.1875 33.796875 48.1875 \nQ 26.515625 48.1875 22.3125 43.546875 \nQ 18.109375 38.921875 18.109375 30.90625 \nL 18.109375 0 \nL 9.078125 0 \nL 9.078125 75.984375 \nL 18.109375 75.984375 \nL 18.109375 46.1875 \nQ 21.34375 51.125 25.703125 53.5625 \nQ 30.078125 56 35.796875 56 \nQ 45.21875 56 50.046875 50.171875 \nQ 54.890625 44.34375 54.890625 33.015625 \nz\n\" id=\"DejaVuSans-104\"/>\n        <path d=\"M 30.609375 48.390625 \nQ 23.390625 48.390625 19.1875 42.75 \nQ 14.984375 37.109375 14.984375 27.296875 \nQ 14.984375 17.484375 19.15625 11.84375 \nQ 23.34375 6.203125 30.609375 6.203125 \nQ 37.796875 6.203125 41.984375 11.859375 \nQ 46.1875 17.53125 46.1875 27.296875 \nQ 46.1875 37.015625 41.984375 42.703125 \nQ 37.796875 48.390625 30.609375 48.390625 \nz\nM 30.609375 56 \nQ 42.328125 56 49.015625 48.375 \nQ 55.71875 40.765625 55.71875 27.296875 \nQ 55.71875 13.875 49.015625 6.21875 \nQ 42.328125 -1.421875 30.609375 -1.421875 \nQ 18.84375 -1.421875 12.171875 6.21875 \nQ 5.515625 13.875 5.515625 27.296875 \nQ 5.515625 40.765625 12.171875 48.375 \nQ 18.84375 56 30.609375 56 \nz\n\" id=\"DejaVuSans-111\"/>\n        <path d=\"M 45.40625 46.390625 \nL 45.40625 75.984375 \nL 54.390625 75.984375 \nL 54.390625 0 \nL 45.40625 0 \nL 45.40625 8.203125 \nQ 42.578125 3.328125 38.25 0.953125 \nQ 33.9375 -1.421875 27.875 -1.421875 \nQ 17.96875 -1.421875 11.734375 6.484375 \nQ 5.515625 14.40625 5.515625 27.296875 \nQ 5.515625 40.1875 11.734375 48.09375 \nQ 17.96875 56 27.875 56 \nQ 33.9375 56 38.25 53.625 \nQ 42.578125 51.265625 45.40625 46.390625 \nz\nM 14.796875 27.296875 \nQ 14.796875 17.390625 18.875 11.75 \nQ 22.953125 6.109375 30.078125 6.109375 \nQ 37.203125 6.109375 41.296875 11.75 \nQ 45.40625 17.390625 45.40625 27.296875 \nQ 45.40625 37.203125 41.296875 42.84375 \nQ 37.203125 48.484375 30.078125 48.484375 \nQ 22.953125 48.484375 18.875 42.84375 \nQ 14.796875 37.203125 14.796875 27.296875 \nz\n\" id=\"DejaVuSans-100\"/>\n        <path id=\"DejaVuSans-32\"/>\n        <path d=\"M 12.40625 8.296875 \nL 28.515625 8.296875 \nL 28.515625 63.921875 \nL 10.984375 60.40625 \nL 10.984375 69.390625 \nL 28.421875 72.90625 \nL 38.28125 72.90625 \nL 38.28125 8.296875 \nL 54.390625 8.296875 \nL 54.390625 0 \nL 12.40625 0 \nz\n\" id=\"DejaVuSans-49\"/>\n       </defs>\n       <use xlink:href=\"#DejaVuSans-77\"/>\n       <use x=\"86.279297\" xlink:href=\"#DejaVuSans-101\"/>\n       <use x=\"147.802734\" xlink:href=\"#DejaVuSans-116\"/>\n       <use x=\"187.011719\" xlink:href=\"#DejaVuSans-104\"/>\n       <use x=\"250.390625\" xlink:href=\"#DejaVuSans-111\"/>\n       <use x=\"311.572266\" xlink:href=\"#DejaVuSans-100\"/>\n       <use x=\"375.048828\" xlink:href=\"#DejaVuSans-32\"/>\n       <use x=\"406.835938\" xlink:href=\"#DejaVuSans-49\"/>\n      </g>\n     </g>\n    </g>\n    <g id=\"xtick_2\">\n     <g id=\"line2d_3\">\n      <path clip-path=\"url(#p0c3dfcba9b)\" d=\"M 290.75 224.64 \nL 290.75 7.2 \n\" style=\"fill:none;stroke:#b0b0b0;stroke-linecap:square;stroke-width:0.8;\"/>\n     </g>\n     <g id=\"line2d_4\">\n      <g>\n       <use style=\"stroke:#000000;stroke-width:0.8;\" x=\"290.75\" xlink:href=\"#m26f017838e\" y=\"224.64\"/>\n      </g>\n     </g>\n     <g id=\"text_2\">\n      <!-- Method 3 -->\n      <g transform=\"translate(267.226563 239.238437)scale(0.1 -0.1)\">\n       <defs>\n        <path d=\"M 40.578125 39.3125 \nQ 47.65625 37.796875 51.625 33 \nQ 55.609375 28.21875 55.609375 21.1875 \nQ 55.609375 10.40625 48.1875 4.484375 \nQ 40.765625 -1.421875 27.09375 -1.421875 \nQ 22.515625 -1.421875 17.65625 -0.515625 \nQ 12.796875 0.390625 7.625 2.203125 \nL 7.625 11.71875 \nQ 11.71875 9.328125 16.59375 8.109375 \nQ 21.484375 6.890625 26.8125 6.890625 \nQ 36.078125 6.890625 40.9375 10.546875 \nQ 45.796875 14.203125 45.796875 21.1875 \nQ 45.796875 27.640625 41.28125 31.265625 \nQ 36.765625 34.90625 28.71875 34.90625 \nL 20.21875 34.90625 \nL 20.21875 43.015625 \nL 29.109375 43.015625 \nQ 36.375 43.015625 40.234375 45.921875 \nQ 44.09375 48.828125 44.09375 54.296875 \nQ 44.09375 59.90625 40.109375 62.90625 \nQ 36.140625 65.921875 28.71875 65.921875 \nQ 24.65625 65.921875 20.015625 65.03125 \nQ 15.375 64.15625 9.8125 62.3125 \nL 9.8125 71.09375 \nQ 15.4375 72.65625 20.34375 73.4375 \nQ 25.25 74.21875 29.59375 74.21875 \nQ 40.828125 74.21875 47.359375 69.109375 \nQ 53.90625 64.015625 53.90625 55.328125 \nQ 53.90625 49.265625 50.4375 45.09375 \nQ 46.96875 40.921875 40.578125 39.3125 \nz\n\" id=\"DejaVuSans-51\"/>\n       </defs>\n       <use xlink:href=\"#DejaVuSans-77\"/>\n       <use x=\"86.279297\" xlink:href=\"#DejaVuSans-101\"/>\n       <use x=\"147.802734\" xlink:href=\"#DejaVuSans-116\"/>\n       <use x=\"187.011719\" xlink:href=\"#DejaVuSans-104\"/>\n       <use x=\"250.390625\" xlink:href=\"#DejaVuSans-111\"/>\n       <use x=\"311.572266\" xlink:href=\"#DejaVuSans-100\"/>\n       <use x=\"375.048828\" xlink:href=\"#DejaVuSans-32\"/>\n       <use x=\"406.835938\" xlink:href=\"#DejaVuSans-51\"/>\n      </g>\n     </g>\n    </g>\n   </g>\n   <g id=\"matplotlib.axis_2\">\n    <g id=\"ytick_1\">\n     <g id=\"line2d_5\">\n      <path clip-path=\"url(#p0c3dfcba9b)\" d=\"M 39.65 214.756364 \nL 374.45 214.756364 \n\" style=\"fill:none;stroke:#b0b0b0;stroke-linecap:square;stroke-width:0.8;\"/>\n     </g>\n     <g id=\"line2d_6\">\n      <defs>\n       <path d=\"M 0 0 \nL -3.5 0 \n\" id=\"md57d8ced03\" style=\"stroke:#000000;stroke-width:0.8;\"/>\n      </defs>\n      <g>\n       <use style=\"stroke:#000000;stroke-width:0.8;\" x=\"39.65\" xlink:href=\"#md57d8ced03\" y=\"214.756364\"/>\n      </g>\n     </g>\n     <g id=\"text_3\">\n      <!-- 0 -->\n      <g transform=\"translate(26.2875 218.555582)scale(0.1 -0.1)\">\n       <defs>\n        <path d=\"M 31.78125 66.40625 \nQ 24.171875 66.40625 20.328125 58.90625 \nQ 16.5 51.421875 16.5 36.375 \nQ 16.5 21.390625 20.328125 13.890625 \nQ 24.171875 6.390625 31.78125 6.390625 \nQ 39.453125 6.390625 43.28125 13.890625 \nQ 47.125 21.390625 47.125 36.375 \nQ 47.125 51.421875 43.28125 58.90625 \nQ 39.453125 66.40625 31.78125 66.40625 \nz\nM 31.78125 74.21875 \nQ 44.046875 74.21875 50.515625 64.515625 \nQ 56.984375 54.828125 56.984375 36.375 \nQ 56.984375 17.96875 50.515625 8.265625 \nQ 44.046875 -1.421875 31.78125 -1.421875 \nQ 19.53125 -1.421875 13.0625 8.265625 \nQ 6.59375 17.96875 6.59375 36.375 \nQ 6.59375 54.828125 13.0625 64.515625 \nQ 19.53125 74.21875 31.78125 74.21875 \nz\n\" id=\"DejaVuSans-48\"/>\n       </defs>\n       <use xlink:href=\"#DejaVuSans-48\"/>\n      </g>\n     </g>\n    </g>\n    <g id=\"ytick_2\">\n     <g id=\"line2d_7\">\n      <path clip-path=\"url(#p0c3dfcba9b)\" d=\"M 39.65 185.004298 \nL 374.45 185.004298 \n\" style=\"fill:none;stroke:#b0b0b0;stroke-linecap:square;stroke-width:0.8;\"/>\n     </g>\n     <g id=\"line2d_8\">\n      <g>\n       <use style=\"stroke:#000000;stroke-width:0.8;\" x=\"39.65\" xlink:href=\"#md57d8ced03\" y=\"185.004298\"/>\n      </g>\n     </g>\n     <g id=\"text_4\">\n      <!-- 500 -->\n      <g transform=\"translate(13.5625 188.803516)scale(0.1 -0.1)\">\n       <defs>\n        <path d=\"M 10.796875 72.90625 \nL 49.515625 72.90625 \nL 49.515625 64.59375 \nL 19.828125 64.59375 \nL 19.828125 46.734375 \nQ 21.96875 47.46875 24.109375 47.828125 \nQ 26.265625 48.1875 28.421875 48.1875 \nQ 40.625 48.1875 47.75 41.5 \nQ 54.890625 34.8125 54.890625 23.390625 \nQ 54.890625 11.625 47.5625 5.09375 \nQ 40.234375 -1.421875 26.90625 -1.421875 \nQ 22.3125 -1.421875 17.546875 -0.640625 \nQ 12.796875 0.140625 7.71875 1.703125 \nL 7.71875 11.625 \nQ 12.109375 9.234375 16.796875 8.0625 \nQ 21.484375 6.890625 26.703125 6.890625 \nQ 35.15625 6.890625 40.078125 11.328125 \nQ 45.015625 15.765625 45.015625 23.390625 \nQ 45.015625 31 40.078125 35.4375 \nQ 35.15625 39.890625 26.703125 39.890625 \nQ 22.75 39.890625 18.8125 39.015625 \nQ 14.890625 38.140625 10.796875 36.28125 \nz\n\" id=\"DejaVuSans-53\"/>\n       </defs>\n       <use xlink:href=\"#DejaVuSans-53\"/>\n       <use x=\"63.623047\" xlink:href=\"#DejaVuSans-48\"/>\n       <use x=\"127.246094\" xlink:href=\"#DejaVuSans-48\"/>\n      </g>\n     </g>\n    </g>\n    <g id=\"ytick_3\">\n     <g id=\"line2d_9\">\n      <path clip-path=\"url(#p0c3dfcba9b)\" d=\"M 39.65 155.252231 \nL 374.45 155.252231 \n\" style=\"fill:none;stroke:#b0b0b0;stroke-linecap:square;stroke-width:0.8;\"/>\n     </g>\n     <g id=\"line2d_10\">\n      <g>\n       <use style=\"stroke:#000000;stroke-width:0.8;\" x=\"39.65\" xlink:href=\"#md57d8ced03\" y=\"155.252231\"/>\n      </g>\n     </g>\n     <g id=\"text_5\">\n      <!-- 1000 -->\n      <g transform=\"translate(7.2 159.05145)scale(0.1 -0.1)\">\n       <use xlink:href=\"#DejaVuSans-49\"/>\n       <use x=\"63.623047\" xlink:href=\"#DejaVuSans-48\"/>\n       <use x=\"127.246094\" xlink:href=\"#DejaVuSans-48\"/>\n       <use x=\"190.869141\" xlink:href=\"#DejaVuSans-48\"/>\n      </g>\n     </g>\n    </g>\n    <g id=\"ytick_4\">\n     <g id=\"line2d_11\">\n      <path clip-path=\"url(#p0c3dfcba9b)\" d=\"M 39.65 125.500165 \nL 374.45 125.500165 \n\" style=\"fill:none;stroke:#b0b0b0;stroke-linecap:square;stroke-width:0.8;\"/>\n     </g>\n     <g id=\"line2d_12\">\n      <g>\n       <use style=\"stroke:#000000;stroke-width:0.8;\" x=\"39.65\" xlink:href=\"#md57d8ced03\" y=\"125.500165\"/>\n      </g>\n     </g>\n     <g id=\"text_6\">\n      <!-- 1500 -->\n      <g transform=\"translate(7.2 129.299384)scale(0.1 -0.1)\">\n       <use xlink:href=\"#DejaVuSans-49\"/>\n       <use x=\"63.623047\" xlink:href=\"#DejaVuSans-53\"/>\n       <use x=\"127.246094\" xlink:href=\"#DejaVuSans-48\"/>\n       <use x=\"190.869141\" xlink:href=\"#DejaVuSans-48\"/>\n      </g>\n     </g>\n    </g>\n    <g id=\"ytick_5\">\n     <g id=\"line2d_13\">\n      <path clip-path=\"url(#p0c3dfcba9b)\" d=\"M 39.65 95.748099 \nL 374.45 95.748099 \n\" style=\"fill:none;stroke:#b0b0b0;stroke-linecap:square;stroke-width:0.8;\"/>\n     </g>\n     <g id=\"line2d_14\">\n      <g>\n       <use style=\"stroke:#000000;stroke-width:0.8;\" x=\"39.65\" xlink:href=\"#md57d8ced03\" y=\"95.748099\"/>\n      </g>\n     </g>\n     <g id=\"text_7\">\n      <!-- 2000 -->\n      <g transform=\"translate(7.2 99.547318)scale(0.1 -0.1)\">\n       <defs>\n        <path d=\"M 19.1875 8.296875 \nL 53.609375 8.296875 \nL 53.609375 0 \nL 7.328125 0 \nL 7.328125 8.296875 \nQ 12.9375 14.109375 22.625 23.890625 \nQ 32.328125 33.6875 34.8125 36.53125 \nQ 39.546875 41.84375 41.421875 45.53125 \nQ 43.3125 49.21875 43.3125 52.78125 \nQ 43.3125 58.59375 39.234375 62.25 \nQ 35.15625 65.921875 28.609375 65.921875 \nQ 23.96875 65.921875 18.8125 64.3125 \nQ 13.671875 62.703125 7.8125 59.421875 \nL 7.8125 69.390625 \nQ 13.765625 71.78125 18.9375 73 \nQ 24.125 74.21875 28.421875 74.21875 \nQ 39.75 74.21875 46.484375 68.546875 \nQ 53.21875 62.890625 53.21875 53.421875 \nQ 53.21875 48.921875 51.53125 44.890625 \nQ 49.859375 40.875 45.40625 35.40625 \nQ 44.1875 33.984375 37.640625 27.21875 \nQ 31.109375 20.453125 19.1875 8.296875 \nz\n\" id=\"DejaVuSans-50\"/>\n       </defs>\n       <use xlink:href=\"#DejaVuSans-50\"/>\n       <use x=\"63.623047\" xlink:href=\"#DejaVuSans-48\"/>\n       <use x=\"127.246094\" xlink:href=\"#DejaVuSans-48\"/>\n       <use x=\"190.869141\" xlink:href=\"#DejaVuSans-48\"/>\n      </g>\n     </g>\n    </g>\n    <g id=\"ytick_6\">\n     <g id=\"line2d_15\">\n      <path clip-path=\"url(#p0c3dfcba9b)\" d=\"M 39.65 65.996033 \nL 374.45 65.996033 \n\" style=\"fill:none;stroke:#b0b0b0;stroke-linecap:square;stroke-width:0.8;\"/>\n     </g>\n     <g id=\"line2d_16\">\n      <g>\n       <use style=\"stroke:#000000;stroke-width:0.8;\" x=\"39.65\" xlink:href=\"#md57d8ced03\" y=\"65.996033\"/>\n      </g>\n     </g>\n     <g id=\"text_8\">\n      <!-- 2500 -->\n      <g transform=\"translate(7.2 69.795252)scale(0.1 -0.1)\">\n       <use xlink:href=\"#DejaVuSans-50\"/>\n       <use x=\"63.623047\" xlink:href=\"#DejaVuSans-53\"/>\n       <use x=\"127.246094\" xlink:href=\"#DejaVuSans-48\"/>\n       <use x=\"190.869141\" xlink:href=\"#DejaVuSans-48\"/>\n      </g>\n     </g>\n    </g>\n    <g id=\"ytick_7\">\n     <g id=\"line2d_17\">\n      <path clip-path=\"url(#p0c3dfcba9b)\" d=\"M 39.65 36.243967 \nL 374.45 36.243967 \n\" style=\"fill:none;stroke:#b0b0b0;stroke-linecap:square;stroke-width:0.8;\"/>\n     </g>\n     <g id=\"line2d_18\">\n      <g>\n       <use style=\"stroke:#000000;stroke-width:0.8;\" x=\"39.65\" xlink:href=\"#md57d8ced03\" y=\"36.243967\"/>\n      </g>\n     </g>\n     <g id=\"text_9\">\n      <!-- 3000 -->\n      <g transform=\"translate(7.2 40.043186)scale(0.1 -0.1)\">\n       <use xlink:href=\"#DejaVuSans-51\"/>\n       <use x=\"63.623047\" xlink:href=\"#DejaVuSans-48\"/>\n       <use x=\"127.246094\" xlink:href=\"#DejaVuSans-48\"/>\n       <use x=\"190.869141\" xlink:href=\"#DejaVuSans-48\"/>\n      </g>\n     </g>\n    </g>\n   </g>\n   <g id=\"line2d_19\">\n    <path clip-path=\"url(#p0c3dfcba9b)\" d=\"M 110.795 214.756364 \nL 135.905 214.756364 \nL 135.905 200.564628 \nL 110.795 200.564628 \nL 110.795 214.756364 \n\" style=\"fill:none;stroke:#1f77b4;stroke-linecap:square;\"/>\n   </g>\n   <g id=\"line2d_20\">\n    <path clip-path=\"url(#p0c3dfcba9b)\" d=\"M 123.35 214.756364 \nL 123.35 214.756364 \n\" style=\"fill:none;stroke:#1f77b4;stroke-linecap:square;\"/>\n   </g>\n   <g id=\"line2d_21\">\n    <path clip-path=\"url(#p0c3dfcba9b)\" d=\"M 123.35 200.564628 \nL 123.35 182.862149 \n\" style=\"fill:none;stroke:#1f77b4;stroke-linecap:square;\"/>\n   </g>\n   <g id=\"line2d_22\">\n    <path clip-path=\"url(#p0c3dfcba9b)\" d=\"M 117.0725 214.756364 \nL 129.6275 214.756364 \n\" style=\"fill:none;stroke:#000000;stroke-linecap:square;\"/>\n   </g>\n   <g id=\"line2d_23\">\n    <path clip-path=\"url(#p0c3dfcba9b)\" d=\"M 117.0725 182.862149 \nL 129.6275 182.862149 \n\" style=\"fill:none;stroke:#000000;stroke-linecap:square;\"/>\n   </g>\n   <g id=\"line2d_24\">\n    <defs>\n     <path d=\"M 0 3 \nC 0.795609 3 1.55874 2.683901 2.12132 2.12132 \nC 2.683901 1.55874 3 0.795609 3 0 \nC 3 -0.795609 2.683901 -1.55874 2.12132 -2.12132 \nC 1.55874 -2.683901 0.795609 -3 0 -3 \nC -0.795609 -3 -1.55874 -2.683901 -2.12132 -2.12132 \nC -2.683901 -1.55874 -3 -0.795609 -3 0 \nC -3 0.795609 -2.683901 1.55874 -2.12132 2.12132 \nC -1.55874 2.683901 -0.795609 3 0 3 \nz\n\" id=\"md6e338f591\" style=\"stroke:#000000;\"/>\n    </defs>\n    <g clip-path=\"url(#p0c3dfcba9b)\">\n     <use style=\"fill-opacity:0;stroke:#000000;\" x=\"123.35\" xlink:href=\"#md6e338f591\" y=\"123.774545\"/>\n     <use style=\"fill-opacity:0;stroke:#000000;\" x=\"123.35\" xlink:href=\"#md6e338f591\" y=\"24.462149\"/>\n     <use style=\"fill-opacity:0;stroke:#000000;\" x=\"123.35\" xlink:href=\"#md6e338f591\" y=\"126.57124\"/>\n     <use style=\"fill-opacity:0;stroke:#000000;\" x=\"123.35\" xlink:href=\"#md6e338f591\" y=\"38.505124\"/>\n     <use style=\"fill-opacity:0;stroke:#000000;\" x=\"123.35\" xlink:href=\"#md6e338f591\" y=\"108.184463\"/>\n     <use style=\"fill-opacity:0;stroke:#000000;\" x=\"123.35\" xlink:href=\"#md6e338f591\" y=\"119.906777\"/>\n     <use style=\"fill-opacity:0;stroke:#000000;\" x=\"123.35\" xlink:href=\"#md6e338f591\" y=\"113.361322\"/>\n     <use style=\"fill-opacity:0;stroke:#000000;\" x=\"123.35\" xlink:href=\"#md6e338f591\" y=\"97.235702\"/>\n     <use style=\"fill-opacity:0;stroke:#000000;\" x=\"123.35\" xlink:href=\"#md6e338f591\" y=\"108.124959\"/>\n     <use style=\"fill-opacity:0;stroke:#000000;\" x=\"123.35\" xlink:href=\"#md6e338f591\" y=\"162.392727\"/>\n     <use style=\"fill-opacity:0;stroke:#000000;\" x=\"123.35\" xlink:href=\"#md6e338f591\" y=\"108.481983\"/>\n     <use style=\"fill-opacity:0;stroke:#000000;\" x=\"123.35\" xlink:href=\"#md6e338f591\" y=\"162.749752\"/>\n     <use style=\"fill-opacity:0;stroke:#000000;\" x=\"123.35\" xlink:href=\"#md6e338f591\" y=\"38.505124\"/>\n     <use style=\"fill-opacity:0;stroke:#000000;\" x=\"123.35\" xlink:href=\"#md6e338f591\" y=\"72.303471\"/>\n     <use style=\"fill-opacity:0;stroke:#000000;\" x=\"123.35\" xlink:href=\"#md6e338f591\" y=\"122.643967\"/>\n     <use style=\"fill-opacity:0;stroke:#000000;\" x=\"123.35\" xlink:href=\"#md6e338f591\" y=\"17.083636\"/>\n     <use style=\"fill-opacity:0;stroke:#000000;\" x=\"123.35\" xlink:href=\"#md6e338f591\" y=\"42.967934\"/>\n     <use style=\"fill-opacity:0;stroke:#000000;\" x=\"123.35\" xlink:href=\"#md6e338f591\" y=\"116.336529\"/>\n    </g>\n   </g>\n   <g id=\"line2d_25\">\n    <path clip-path=\"url(#p0c3dfcba9b)\" d=\"M 278.195 212.153058 \nL 303.305 212.153058 \nL 303.305 202.17124 \nL 278.195 202.17124 \nL 278.195 212.153058 \n\" style=\"fill:none;stroke:#1f77b4;stroke-linecap:square;\"/>\n   </g>\n   <g id=\"line2d_26\">\n    <path clip-path=\"url(#p0c3dfcba9b)\" d=\"M 290.75 212.153058 \nL 290.75 214.756364 \n\" style=\"fill:none;stroke:#1f77b4;stroke-linecap:square;\"/>\n   </g>\n   <g id=\"line2d_27\">\n    <path clip-path=\"url(#p0c3dfcba9b)\" d=\"M 290.75 202.17124 \nL 290.75 188.812562 \n\" style=\"fill:none;stroke:#1f77b4;stroke-linecap:square;\"/>\n   </g>\n   <g id=\"line2d_28\">\n    <path clip-path=\"url(#p0c3dfcba9b)\" d=\"M 284.4725 214.756364 \nL 297.0275 214.756364 \n\" style=\"fill:none;stroke:#000000;stroke-linecap:square;\"/>\n   </g>\n   <g id=\"line2d_29\">\n    <path clip-path=\"url(#p0c3dfcba9b)\" d=\"M 284.4725 188.812562 \nL 297.0275 188.812562 \n\" style=\"fill:none;stroke:#000000;stroke-linecap:square;\"/>\n   </g>\n   <g id=\"line2d_30\">\n    <g clip-path=\"url(#p0c3dfcba9b)\">\n     <use style=\"fill-opacity:0;stroke:#000000;\" x=\"290.75\" xlink:href=\"#md6e338f591\" y=\"123.774545\"/>\n     <use style=\"fill-opacity:0;stroke:#000000;\" x=\"290.75\" xlink:href=\"#md6e338f591\" y=\"184.647273\"/>\n     <use style=\"fill-opacity:0;stroke:#000000;\" x=\"290.75\" xlink:href=\"#md6e338f591\" y=\"28.032397\"/>\n     <use style=\"fill-opacity:0;stroke:#000000;\" x=\"290.75\" xlink:href=\"#md6e338f591\" y=\"128.891901\"/>\n     <use style=\"fill-opacity:0;stroke:#000000;\" x=\"290.75\" xlink:href=\"#md6e338f591\" y=\"165.784463\"/>\n     <use style=\"fill-opacity:0;stroke:#000000;\" x=\"290.75\" xlink:href=\"#md6e338f591\" y=\"156.442314\"/>\n     <use style=\"fill-opacity:0;stroke:#000000;\" x=\"290.75\" xlink:href=\"#md6e338f591\" y=\"45.348099\"/>\n     <use style=\"fill-opacity:0;stroke:#000000;\" x=\"290.75\" xlink:href=\"#md6e338f591\" y=\"108.184463\"/>\n     <use style=\"fill-opacity:0;stroke:#000000;\" x=\"290.75\" xlink:href=\"#md6e338f591\" y=\"134.425785\"/>\n     <use style=\"fill-opacity:0;stroke:#000000;\" x=\"290.75\" xlink:href=\"#md6e338f591\" y=\"156.799339\"/>\n     <use style=\"fill-opacity:0;stroke:#000000;\" x=\"290.75\" xlink:href=\"#md6e338f591\" y=\"114.015868\"/>\n     <use style=\"fill-opacity:0;stroke:#000000;\" x=\"290.75\" xlink:href=\"#md6e338f591\" y=\"163.880331\"/>\n     <use style=\"fill-opacity:0;stroke:#000000;\" x=\"290.75\" xlink:href=\"#md6e338f591\" y=\"113.777851\"/>\n     <use style=\"fill-opacity:0;stroke:#000000;\" x=\"290.75\" xlink:href=\"#md6e338f591\" y=\"127.880331\"/>\n     <use style=\"fill-opacity:0;stroke:#000000;\" x=\"290.75\" xlink:href=\"#md6e338f591\" y=\"162.749752\"/>\n     <use style=\"fill-opacity:0;stroke:#000000;\" x=\"290.75\" xlink:href=\"#md6e338f591\" y=\"41.420826\"/>\n     <use style=\"fill-opacity:0;stroke:#000000;\" x=\"290.75\" xlink:href=\"#md6e338f591\" y=\"141.209256\"/>\n     <use style=\"fill-opacity:0;stroke:#000000;\" x=\"290.75\" xlink:href=\"#md6e338f591\" y=\"176.078678\"/>\n     <use style=\"fill-opacity:0;stroke:#000000;\" x=\"290.75\" xlink:href=\"#md6e338f591\" y=\"127.166281\"/>\n     <use style=\"fill-opacity:0;stroke:#000000;\" x=\"290.75\" xlink:href=\"#md6e338f591\" y=\"134.723306\"/>\n     <use style=\"fill-opacity:0;stroke:#000000;\" x=\"290.75\" xlink:href=\"#md6e338f591\" y=\"85.39438\"/>\n     <use style=\"fill-opacity:0;stroke:#000000;\" x=\"290.75\" xlink:href=\"#md6e338f591\" y=\"173.341488\"/>\n     <use style=\"fill-opacity:0;stroke:#000000;\" x=\"290.75\" xlink:href=\"#md6e338f591\" y=\"160.548099\"/>\n    </g>\n   </g>\n   <g id=\"line2d_31\">\n    <path clip-path=\"url(#p0c3dfcba9b)\" d=\"M 110.795 208.210909 \nL 135.905 208.210909 \n\" style=\"fill:none;stroke:#2ca02c;stroke-linecap:square;\"/>\n   </g>\n   <g id=\"line2d_32\">\n    <path clip-path=\"url(#p0c3dfcba9b)\" d=\"M 278.195 207.556364 \nL 303.305 207.556364 \n\" style=\"fill:none;stroke:#2ca02c;stroke-linecap:square;\"/>\n   </g>\n   <g id=\"patch_3\">\n    <path d=\"M 39.65 224.64 \nL 39.65 7.2 \n\" style=\"fill:none;stroke:#000000;stroke-linecap:square;stroke-linejoin:miter;stroke-width:0.8;\"/>\n   </g>\n   <g id=\"patch_4\">\n    <path d=\"M 374.45 224.64 \nL 374.45 7.2 \n\" style=\"fill:none;stroke:#000000;stroke-linecap:square;stroke-linejoin:miter;stroke-width:0.8;\"/>\n   </g>\n   <g id=\"patch_5\">\n    <path d=\"M 39.65 224.64 \nL 374.45 224.64 \n\" style=\"fill:none;stroke:#000000;stroke-linecap:square;stroke-linejoin:miter;stroke-width:0.8;\"/>\n   </g>\n   <g id=\"patch_6\">\n    <path d=\"M 39.65 7.2 \nL 374.45 7.2 \n\" style=\"fill:none;stroke:#000000;stroke-linecap:square;stroke-linejoin:miter;stroke-width:0.8;\"/>\n   </g>\n  </g>\n </g>\n <defs>\n  <clipPath id=\"p0c3dfcba9b\">\n   <rect height=\"217.44\" width=\"334.8\" x=\"39.65\" y=\"7.2\"/>\n  </clipPath>\n </defs>\n</svg>\n",
      "image/png": "[encoded data removed]"
     },
     "metadata": {
      "needs_background": "light"
     }
    }
   ],
   "source": [
    "boxplot = df.boxplot(column= ['Method 1', 'Method 3'])"
   ]
  },
  {
   "cell_type": "code",
   "execution_count": 9,
   "metadata": {},
   "outputs": [],
   "source": [
    "data_1 = df['Method 1']"
   ]
  },
  {
   "cell_type": "code",
   "execution_count": 10,
   "metadata": {},
   "outputs": [],
   "source": [
    "data_3 = df['Method 3']"
   ]
  },
  {
   "cell_type": "code",
   "execution_count": 13,
   "metadata": {},
   "outputs": [],
   "source": [
    "median_1 = np.median(data_1)"
   ]
  },
  {
   "cell_type": "code",
   "execution_count": 14,
   "metadata": {},
   "outputs": [
    {
     "output_type": "execute_result",
     "data": {
      "text/plain": [
       "110.0"
      ]
     },
     "metadata": {},
     "execution_count": 14
    }
   ],
   "source": [
    "median_1"
   ]
  },
  {
   "cell_type": "code",
   "execution_count": 15,
   "metadata": {},
   "outputs": [],
   "source": [
    "median_3 = np.median(data_3)"
   ]
  },
  {
   "cell_type": "code",
   "execution_count": 16,
   "metadata": {},
   "outputs": [
    {
     "output_type": "execute_result",
     "data": {
      "text/plain": [
       "121.0"
      ]
     },
     "metadata": {},
     "execution_count": 16
    }
   ],
   "source": [
    "median_3"
   ]
  },
  {
   "cell_type": "code",
   "execution_count": 19,
   "metadata": {},
   "outputs": [],
   "source": [
    "lq_1 = np.percentile(data_1, 25)\n",
    "uq_1 = np.percentile(data_1, 75)\n",
    "lq_3 = np.percentile(data_3, 25)\n",
    "uq_3 = np.percentile(data_3, 75)\n",
    "iqr_1 = uq_1 - lq_1\n",
    "iqr_3 = uq_3 - lq_3\n",
    "min_1 = data_1[data_1<= uq_1 +1.5*iqr_1].min()\n",
    "min_3 = data_3[data_3<= uq_3 +1.5*iqr_3].min()\n",
    "max_1 = data_1[data_1>= uq_1 +1.5*iqr_1].max()\n",
    "max_3 = data_3[data_3>= uq_3 +1.5*iqr_3].max()\n"
   ]
  },
  {
   "cell_type": "code",
   "execution_count": 20,
   "metadata": {},
   "outputs": [
    {
     "output_type": "stream",
     "name": "stdout",
     "text": [
      "0 0.0 110.0 238.5 3322\n0 43.75 121.0 211.5 3138\n"
     ]
    }
   ],
   "source": [
    "print(min_1, lq_1, median_1, uq_1, max_1)\n",
    "print(min_3, lq_3, median_3, uq_3, max_3)"
   ]
  },
  {
   "cell_type": "code",
   "execution_count": null,
   "metadata": {},
   "outputs": [],
   "source": []
  }
 ]
}