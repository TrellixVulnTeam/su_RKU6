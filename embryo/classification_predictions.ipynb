{
 "metadata": {
  "language_info": {
   "codemirror_mode": {
    "name": "ipython",
    "version": 3
   },
   "file_extension": ".py",
   "mimetype": "text/x-python",
   "name": "python",
   "nbconvert_exporter": "python",
   "pygments_lexer": "ipython3",
   "version": "3.7.8-final"
  },
  "orig_nbformat": 2,
  "kernelspec": {
   "name": "python3",
   "display_name": "Python 3.7.8 64-bit ('tf_gpu': conda)",
   "metadata": {
    "interpreter": {
     "hash": "a056ba06ded852cfdd4274c3767b4ee03e190f3839f51ca7b5d17ec314c1cb7d"
    }
   }
  }
 },
 "nbformat": 4,
 "nbformat_minor": 2,
 "cells": [
  {
   "cell_type": "code",
   "execution_count": 1,
   "metadata": {},
   "outputs": [],
   "source": [
    "from pathlib import Path\n",
    "import pandas as pd\n",
    "import numpy as np\n",
    "import tensorflow as tf\n",
    "import matplotlib.pyplot as plt\n",
    "from sklearn.metrics import roc_curve, roc_auc_score, auc\n",
    "from tensorflow.keras.preprocessing import image\n",
    "from tensorflow.keras.applications.imagenet_utils import decode_predictions\n",
    "from tensorflow.keras.preprocessing.image import ImageDataGenerator\n",
    "from tensorflow.keras.preprocessing.image import img_to_array\n",
    "from tensorflow.keras.applications.inception_v3 import InceptionV3\n",
    "from tensorflow.keras.applications.resnet50 import preprocess_input\n",
    "from tensorflow.keras.models import load_model\n",
    "from PIL import ImageFile\n",
    "ImageFile.LOAD_TRUNCATED_IMAGES = True"
   ]
  },
  {
   "cell_type": "code",
   "execution_count": 7,
   "metadata": {},
   "outputs": [
    {
     "output_type": "stream",
     "name": "stdout",
     "text": [
      "Found 77 images belonging to 2 classes.\n"
     ]
    }
   ],
   "source": [
    "model_fhb_1 = tf.keras.models.load_model('/data/embryo/method_1/saved_model/fhb/')\n",
    "validation_datagen = ImageDataGenerator(rescale=1/255)\n",
    "validation_generator_1 = validation_datagen.flow_from_directory(\n",
    "    '/data/embryo/method_1/validation/',\n",
    "    batch_size=8,\n",
    "    class_mode='binary',\n",
    "    shuffle=False\n",
    ")\n",
    "fhb_pred_1 = model_fhb_1.predict_generator(validation_generator_1, steps=77//8+1)\n",
    "fhb_true_1 = validation_generator_1.classes"
   ]
  },
  {
   "cell_type": "code",
   "execution_count": 29,
   "metadata": {},
   "outputs": [],
   "source": [
    "fhb_pred_1_lst = []\n",
    "fhb_true_1_lst = []\n",
    "for i in range(len(fhb_pred_1)):\n",
    "    fhb_pred_1_lst.append(fhb_pred_1[i][0])\n",
    "    fhb_true_1_lst.append(fhb_true_1[i])"
   ]
  },
  {
   "cell_type": "code",
   "execution_count": 32,
   "metadata": {},
   "outputs": [],
   "source": [
    "df_fhb_1 = pd.DataFrame(data={\"True\":fhb_true_1_lst, \"Predicted\":fhb_pred_1_lst})\n",
    "df_fhb_1.to_csv(\"./fhb_predictions_1.csv\")"
   ]
  },
  {
   "cell_type": "code",
   "execution_count": 34,
   "metadata": {},
   "outputs": [
    {
     "output_type": "stream",
     "name": "stdout",
     "text": [
      "Found 77 images belonging to 2 classes.\n"
     ]
    }
   ],
   "source": [
    "model_fhb_2 = tf.keras.models.load_model('/data/embryo/method_2/saved_model/fhb/')\n",
    "validation_datagen = ImageDataGenerator(rescale=1/255)\n",
    "validation_generator_2 = validation_datagen.flow_from_directory(\n",
    "    '/data/embryo/method_2/validation/',\n",
    "    batch_size=16,\n",
    "    class_mode='binary',\n",
    "    shuffle=False\n",
    ")\n",
    "fhb_pred_2 = model_fhb_2.predict_generator(validation_generator_2, steps=77//16+1)\n",
    "fhb_true_2 = validation_generator_2.classes\n",
    "fhb_pred_2_lst = []\n",
    "fhb_true_2_lst = []\n",
    "for i in range(len(fhb_pred_2)):\n",
    "    fhb_pred_2_lst.append(fhb_pred_2[i][0])\n",
    "    fhb_true_2_lst.append(fhb_true_2[i])\n",
    "df_fhb_2 = pd.DataFrame(data={\"True\":fhb_true_2_lst, \"Predicted\":fhb_pred_2_lst})\n",
    "df_fhb_2.to_csv(\"./fhb_predictions_2.csv\")"
   ]
  },
  {
   "cell_type": "code",
   "execution_count": 35,
   "metadata": {},
   "outputs": [
    {
     "output_type": "stream",
     "name": "stdout",
     "text": [
      "Found 77 images belonging to 2 classes.\n"
     ]
    }
   ],
   "source": [
    "model_fhb_3 = tf.keras.models.load_model('/data/embryo/method_3/saved_model/fhb/')\n",
    "validation_datagen = ImageDataGenerator(rescale=1/255)\n",
    "validation_generator_3 = validation_datagen.flow_from_directory(\n",
    "    '/data/embryo/method_3/validation/',\n",
    "    batch_size=8,\n",
    "    class_mode='binary',\n",
    "    shuffle=False\n",
    ")\n",
    "fhb_pred_3 = model_fhb_3.predict_generator(validation_generator_3, steps=77//8+1)\n",
    "fhb_true_3 = validation_generator_3.classes\n",
    "fhb_pred_3_lst = []\n",
    "fhb_true_3_lst = []\n",
    "for i in range(len(fhb_pred_3)):\n",
    "    fhb_pred_3_lst.append(fhb_pred_3[i][0])\n",
    "    fhb_true_3_lst.append(fhb_true_3[i])\n",
    "df_fhb_3 = pd.DataFrame(data={\"True\":fhb_true_3_lst, \"Predicted\":fhb_pred_3_lst})\n",
    "df_fhb_3.to_csv(\"./fhb_predictions_3.csv\")"
   ]
  },
  {
   "cell_type": "code",
   "execution_count": 46,
   "metadata": {},
   "outputs": [
    {
     "output_type": "stream",
     "name": "stdout",
     "text": [
      "Found 80 validated image filenames belonging to 3 classes.\n",
      "WARNING:tensorflow:Your input ran out of data; interrupting training. Make sure that your dataset or generator can generate at least `steps_per_epoch * epochs` batches (in this case, 6 batches). You may need to use the repeat() function when building your dataset.\n"
     ]
    }
   ],
   "source": [
    "model_icm_1 = tf.keras.models.load_model('/data/embryo/method_1/grade/saved_model/first_grade/')\n",
    "validation_datagen = ImageDataGenerator(rescale=1/255)\n",
    "validation_df_1 = pd.read_csv('/data/embryo/method_1/validation_grade.csv', dtype= str)\n",
    "validation_generator = validation_datagen.flow_from_dataframe(\n",
    "    dataframe = validation_df_1,\n",
    "    directory = '/data/embryo/method_1/',\n",
    "    x_col = 'id',\n",
    "    y_col = 'First',\n",
    "    batch_size=16,\n",
    "    class_mode = 'categorical',\n",
    "    shuffle=False)\n",
    "icm_pred_1 = model_icm_1.predict_generator(validation_generator, steps=80//16+1)\n",
    "icm_true_1 = validation_generator.classes\n",
    "icm_pred_1_lst = []\n",
    "icm_true_1_lst = []\n",
    "for i in range(len(icm_pred_1)):\n",
    "    icm_pred_1_lst.append(icm_pred_1[i])\n",
    "    icm_true_1_lst.append(icm_true_1[i])\n",
    "df_icm_1 = pd.DataFrame(data={\"True\":icm_true_1_lst, \"Predicted\":icm_pred_1_lst})\n",
    "df_icm_1.to_csv(\"./icm_predictions_1.csv\")\n"
   ]
  },
  {
   "cell_type": "code",
   "execution_count": 47,
   "metadata": {},
   "outputs": [
    {
     "output_type": "stream",
     "name": "stdout",
     "text": [
      "Found 76 validated image filenames belonging to 3 classes.\n"
     ]
    }
   ],
   "source": [
    "model_icm_2 = tf.keras.models.load_model('/data/embryo/method_2/grade/saved_model/first_grade/')\n",
    "validation_datagen = ImageDataGenerator(rescale=1/255)\n",
    "validation_df_2 = pd.read_csv('/data/embryo/method_2/validation_grade.csv', dtype= str)\n",
    "validation_generator = validation_datagen.flow_from_dataframe(\n",
    "    dataframe = validation_df_2,\n",
    "    directory = '/data/embryo/method_2/',\n",
    "    x_col = 'id',\n",
    "    y_col = 'First',\n",
    "    batch_size=16,\n",
    "    class_mode = 'categorical',\n",
    "    shuffle=False)\n",
    "icm_pred_2 = model_icm_2.predict_generator(validation_generator, steps=76//16+1)\n",
    "icm_true_2 = validation_generator.classes\n",
    "icm_pred_2_lst = []\n",
    "icm_true_2_lst = []\n",
    "for i in range(len(icm_pred_2)):\n",
    "    icm_pred_2_lst.append(icm_pred_2[i])\n",
    "    icm_true_2_lst.append(icm_true_2[i])\n",
    "df_icm_2 = pd.DataFrame(data={\"True\":icm_true_2_lst, \"Predicted\":icm_pred_2_lst})\n",
    "df_icm_2.to_csv(\"./icm_predictions_2.csv\")\n"
   ]
  },
  {
   "cell_type": "code",
   "execution_count": 48,
   "metadata": {},
   "outputs": [
    {
     "output_type": "stream",
     "name": "stdout",
     "text": [
      "Found 77 validated image filenames belonging to 3 classes.\n"
     ]
    }
   ],
   "source": [
    "model_icm_3 = tf.keras.models.load_model('/data/embryo/method_3/grade/saved_model/first_grade/')\n",
    "validation_datagen = ImageDataGenerator(rescale=1/255)\n",
    "validation_df_3 = pd.read_csv('/data/embryo/method_3/validation_grade.csv', dtype= str)\n",
    "validation_generator = validation_datagen.flow_from_dataframe(\n",
    "    dataframe = validation_df_3,\n",
    "    directory = '/data/embryo/method_3/',\n",
    "    x_col = 'id',\n",
    "    y_col = 'First',\n",
    "    batch_size=16,\n",
    "    class_mode = 'categorical',\n",
    "    shuffle=False)\n",
    "icm_pred_3 = model_icm_3.predict_generator(validation_generator, steps=77//16+1)\n",
    "icm_true_3 = validation_generator.classes\n",
    "icm_pred_3_lst = []\n",
    "icm_true_3_lst = []\n",
    "for i in range(len(icm_pred_3)):\n",
    "    icm_pred_3_lst.append(icm_pred_3[i])\n",
    "    icm_true_3_lst.append(icm_true_3[i])\n",
    "df_icm_3 = pd.DataFrame(data={\"True\":icm_true_3_lst, \"Predicted\":icm_pred_3_lst})\n",
    "df_icm_3.to_csv(\"./icm_predictions_3.csv\")"
   ]
  },
  {
   "cell_type": "code",
   "execution_count": 49,
   "metadata": {},
   "outputs": [
    {
     "output_type": "stream",
     "name": "stdout",
     "text": [
      "Found 80 validated image filenames belonging to 3 classes.\n",
      "WARNING:tensorflow:Your input ran out of data; interrupting training. Make sure that your dataset or generator can generate at least `steps_per_epoch * epochs` batches (in this case, 6 batches). You may need to use the repeat() function when building your dataset.\n"
     ]
    }
   ],
   "source": [
    "model_te_1 = tf.keras.models.load_model('/data/embryo/method_1/grade/saved_model/second_grade/')\n",
    "validation_datagen = ImageDataGenerator(rescale=1/255)\n",
    "validation_df_1 = pd.read_csv('/data/embryo/method_1/validation_grade.csv', dtype= str)\n",
    "validation_generator = validation_datagen.flow_from_dataframe(\n",
    "    dataframe = validation_df_1,\n",
    "    directory = '/data/embryo/method_1/',\n",
    "    x_col = 'id',\n",
    "    y_col = 'Second',\n",
    "    batch_size=16,\n",
    "    class_mode = 'categorical',\n",
    "    shuffle=False)\n",
    "te_pred_1 = model_te_1.predict_generator(validation_generator, steps=80//16+1)\n",
    "te_true_1 = validation_generator.classes\n",
    "te_pred_1_lst = []\n",
    "te_true_1_lst = []\n",
    "for i in range(len(te_pred_1)):\n",
    "    te_pred_1_lst.append(te_pred_1[i])\n",
    "    te_true_1_lst.append(te_true_1[i])\n",
    "df_te_1 = pd.DataFrame(data={\"True\":te_true_1_lst, \"Predicted\":te_pred_1_lst})\n",
    "df_te_1.to_csv(\"./te_predictions_1.csv\")"
   ]
  },
  {
   "cell_type": "code",
   "execution_count": 50,
   "metadata": {},
   "outputs": [
    {
     "output_type": "stream",
     "name": "stdout",
     "text": [
      "Found 76 validated image filenames belonging to 3 classes.\n"
     ]
    }
   ],
   "source": [
    "model_te_2 = tf.keras.models.load_model('/data/embryo/method_2/grade/saved_model/second_grade/')\n",
    "validation_datagen = ImageDataGenerator(rescale=1/255)\n",
    "validation_df_2 = pd.read_csv('/data/embryo/method_2/validation_grade.csv', dtype= str)\n",
    "validation_generator = validation_datagen.flow_from_dataframe(\n",
    "    dataframe = validation_df_2,\n",
    "    directory = '/data/embryo/method_2/',\n",
    "    x_col = 'id',\n",
    "    y_col = 'Second',\n",
    "    batch_size=16,\n",
    "    class_mode = 'categorical',\n",
    "    shuffle=False)\n",
    "te_pred_2 = model_te_2.predict_generator(validation_generator, steps=76//16+1)\n",
    "te_true_2 = validation_generator.classes\n",
    "te_pred_2_lst = []\n",
    "te_true_2_lst = []\n",
    "for i in range(len(te_pred_2)):\n",
    "    te_pred_2_lst.append(te_pred_2[i])\n",
    "    te_true_2_lst.append(te_true_2[i])\n",
    "df_te_2 = pd.DataFrame(data={\"True\":te_true_2_lst, \"Predicted\":te_pred_2_lst})\n",
    "df_te_2.to_csv(\"./te_predictions_2.csv\")"
   ]
  },
  {
   "cell_type": "code",
   "execution_count": 51,
   "metadata": {},
   "outputs": [
    {
     "output_type": "stream",
     "name": "stdout",
     "text": [
      "Found 77 validated image filenames belonging to 3 classes.\n"
     ]
    }
   ],
   "source": [
    "model_te_3 = tf.keras.models.load_model('/data/embryo/method_3/grade/saved_model/second_grade/')\n",
    "validation_datagen = ImageDataGenerator(rescale=1/255)\n",
    "validation_df_3 = pd.read_csv('/data/embryo/method_3/validation_grade.csv', dtype= str)\n",
    "validation_generator = validation_datagen.flow_from_dataframe(\n",
    "    dataframe = validation_df_3,\n",
    "    directory = '/data/embryo/method_3/',\n",
    "    x_col = 'id',\n",
    "    y_col = 'Second',\n",
    "    batch_size=16,\n",
    "    class_mode = 'categorical',\n",
    "    shuffle=False)\n",
    "te_pred_3 = model_te_3.predict_generator(validation_generator, steps=77//16+1)\n",
    "te_true_3 = validation_generator.classes\n",
    "te_pred_3_lst = []\n",
    "te_true_3_lst = []\n",
    "for i in range(len(te_pred_3)):\n",
    "    te_pred_3_lst.append(te_pred_3[i])\n",
    "    te_true_3_lst.append(te_true_3[i])\n",
    "df_te_3 = pd.DataFrame(data={\"True\":te_true_3_lst, \"Predicted\":te_pred_3_lst})\n",
    "df_te_3.to_csv(\"./te_predictions_3.csv\")"
   ]
  },
  {
   "cell_type": "code",
   "execution_count": 52,
   "metadata": {},
   "outputs": [
    {
     "output_type": "stream",
     "name": "stdout",
     "text": [
      "Found 80 validated image filenames belonging to 7 classes.\n",
      "WARNING:tensorflow:Your input ran out of data; interrupting training. Make sure that your dataset or generator can generate at least `steps_per_epoch * epochs` batches (in this case, 11 batches). You may need to use the repeat() function when building your dataset.\n"
     ]
    }
   ],
   "source": [
    "model_qual_1 = tf.keras.models.load_model('/data/embryo/method_1/grade/saved_model/top_1_grade/')\n",
    "validation_datagen = ImageDataGenerator(rescale=1/255)\n",
    "validation_df_1 = pd.read_csv('/data/embryo/method_1/validation_grade.csv', dtype= str)\n",
    "validation_generator = validation_datagen.flow_from_dataframe(\n",
    "    dataframe = validation_df_1,\n",
    "    directory = '/data/embryo/method_1/',\n",
    "    x_col = 'id',\n",
    "    y_col = 'label',\n",
    "    batch_size=8,\n",
    "    class_mode = 'categorical',\n",
    "    shuffle=False)\n",
    "qual_pred_1 = model_qual_1.predict_generator(validation_generator, steps=80//8+1)\n",
    "qual_true_1 = validation_generator.classes\n",
    "qual_pred_1_lst = []\n",
    "qual_true_1_lst = []\n",
    "for i in range(len(qual_pred_1)):\n",
    "    qual_pred_1_lst.append(qual_pred_1[i])\n",
    "    qual_true_1_lst.append(qual_true_1[i])\n",
    "df_qual_1 = pd.DataFrame(data={\"True\":qual_true_1_lst, \"Predicted\":qual_pred_1_lst})\n",
    "df_qual_1.to_csv(\"./quality_predictions_1.csv\")"
   ]
  },
  {
   "cell_type": "code",
   "execution_count": 54,
   "metadata": {},
   "outputs": [
    {
     "output_type": "stream",
     "name": "stdout",
     "text": [
      "Found 76 validated image filenames belonging to 7 classes.\n"
     ]
    }
   ],
   "source": [
    "model_qual_2 = tf.keras.models.load_model('/data/embryo/method_2/grade/saved_model/top_1_grade/')\n",
    "validation_datagen = ImageDataGenerator(rescale=1/255)\n",
    "validation_df_2 = pd.read_csv('/data/embryo/method_2/validation_grade.csv', dtype= str)\n",
    "validation_generator = validation_datagen.flow_from_dataframe(\n",
    "    dataframe = validation_df_2,\n",
    "    directory = '/data/embryo/method_2/',\n",
    "    x_col = 'id',\n",
    "    y_col = 'label',\n",
    "    batch_size=8,\n",
    "    class_mode = 'categorical',\n",
    "    shuffle=False)\n",
    "qual_pred_2 = model_qual_2.predict_generator(validation_generator, steps=76//8+1)\n",
    "qual_true_2 = validation_generator.classes\n",
    "qual_pred_2_lst = []\n",
    "qual_true_2_lst = []\n",
    "for i in range(len(qual_pred_2)):\n",
    "    qual_pred_2_lst.append(qual_pred_2[i])\n",
    "    qual_true_2_lst.append(qual_true_2[i])\n",
    "df_qual_2 = pd.DataFrame(data={\"True\":qual_true_2_lst, \"Predicted\":qual_pred_2_lst})\n",
    "df_qual_2.to_csv(\"./quality_predictions_2.csv\")"
   ]
  },
  {
   "cell_type": "code",
   "execution_count": 55,
   "metadata": {},
   "outputs": [
    {
     "output_type": "stream",
     "name": "stdout",
     "text": [
      "Found 77 validated image filenames belonging to 7 classes.\n"
     ]
    }
   ],
   "source": [
    "model_qual_3 = tf.keras.models.load_model('/data/embryo/method_3/grade/saved_model/top_1_grade/')\n",
    "validation_datagen = ImageDataGenerator(rescale=1/255)\n",
    "validation_df_3 = pd.read_csv('/data/embryo/method_3/validation_grade.csv', dtype= str)\n",
    "validation_generator = validation_datagen.flow_from_dataframe(\n",
    "    dataframe = validation_df_3,\n",
    "    directory = '/data/embryo/method_3/',\n",
    "    x_col = 'id',\n",
    "    y_col = 'label',\n",
    "    batch_size=8,\n",
    "    class_mode = 'categorical',\n",
    "    shuffle=False)\n",
    "qual_pred_3 = model_qual_2.predict_generator(validation_generator, steps=77//8+1)\n",
    "qual_true_3 = validation_generator.classes\n",
    "qual_pred_3_lst = []\n",
    "qual_true_3_lst = []\n",
    "for i in range(len(qual_pred_3)):\n",
    "    qual_pred_3_lst.append(qual_pred_3[i])\n",
    "    qual_true_3_lst.append(qual_true_3[i])\n",
    "df_qual_3 = pd.DataFrame(data={\"True\":qual_true_3_lst, \"Predicted\":qual_pred_3_lst})\n",
    "df_qual_3.to_csv(\"./quality_predictions_3.csv\")"
   ]
  },
  {
   "cell_type": "code",
   "execution_count": null,
   "metadata": {},
   "outputs": [],
   "source": []
  }
 ]
}