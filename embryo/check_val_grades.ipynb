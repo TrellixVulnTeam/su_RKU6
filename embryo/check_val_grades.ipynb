{
 "metadata": {
  "language_info": {
   "codemirror_mode": {
    "name": "ipython",
    "version": 3
   },
   "file_extension": ".py",
   "mimetype": "text/x-python",
   "name": "python",
   "nbconvert_exporter": "python",
   "pygments_lexer": "ipython3",
   "version": "3.7.8-final"
  },
  "orig_nbformat": 2,
  "kernelspec": {
   "name": "python3",
   "display_name": "Python 3"
  }
 },
 "nbformat": 4,
 "nbformat_minor": 2,
 "cells": [
  {
   "cell_type": "code",
   "execution_count": 1,
   "metadata": {},
   "outputs": [],
   "source": [
    "import os\n",
    "import glob\n",
    "from csv import DictReader\n",
    "import shutil\n",
    "import glob\n",
    "import plotnine as p9\n",
    "import pandas as pd\n",
    "from pathlib import Path"
   ]
  },
  {
   "cell_type": "code",
   "execution_count": 4,
   "metadata": {},
   "outputs": [],
   "source": [
    "val_data = '/data/embryo/method_1/validation_grade.csv'"
   ]
  },
  {
   "cell_type": "code",
   "execution_count": 5,
   "metadata": {},
   "outputs": [],
   "source": [
    "grades = []\n",
    "with open(val_data, 'r') as read_obj:\n",
    "    csv_dict_reader = DictReader(read_obj)\n",
    "    for row in csv_dict_reader:\n",
    "        grade = row['label']\n",
    "        if grade not in grades:\n",
    "            grades.append(grade)"
   ]
  },
  {
   "cell_type": "code",
   "execution_count": 6,
   "metadata": {},
   "outputs": [
    {
     "output_type": "execute_result",
     "data": {
      "text/plain": [
       "['aa', 'bb', 'ab', 'bc', 'ba']"
      ]
     },
     "metadata": {},
     "execution_count": 6
    }
   ],
   "source": [
    "grades"
   ]
  },
  {
   "cell_type": "code",
   "execution_count": 7,
   "metadata": {},
   "outputs": [],
   "source": [
    "grades_2 = []\n",
    "with open('/data/embryo/method_2/validation_grade.csv', 'r') as read_obj:\n",
    "    csv_dict_reader = DictReader(read_obj)\n",
    "    for row in csv_dict_reader:\n",
    "        grade = row['label']\n",
    "        if grade not in grades_2:\n",
    "            grades_2.append(grade)"
   ]
  },
  {
   "cell_type": "code",
   "execution_count": 8,
   "metadata": {},
   "outputs": [
    {
     "output_type": "execute_result",
     "data": {
      "text/plain": [
       "['aa', 'bb', 'ab', 'bc', 'ba', 'ac', 'cc']"
      ]
     },
     "metadata": {},
     "execution_count": 8
    }
   ],
   "source": [
    "grades_2"
   ]
  },
  {
   "cell_type": "code",
   "execution_count": 9,
   "metadata": {},
   "outputs": [],
   "source": [
    "grades_2_train = []\n",
    "with open('/data/embryo/method_2/train_grade.csv', 'r') as read_obj:\n",
    "    csv_dict_reader = DictReader(read_obj)\n",
    "    for row in csv_dict_reader:\n",
    "        grade = row['label']\n",
    "        if grade not in grades_2_train:\n",
    "            grades_2_train.append(grade)"
   ]
  },
  {
   "cell_type": "code",
   "execution_count": 10,
   "metadata": {},
   "outputs": [
    {
     "output_type": "execute_result",
     "data": {
      "text/plain": [
       "['aa', 'bb', 'ab', 'ac', 'ba', 'bc', 'cc']"
      ]
     },
     "metadata": {},
     "execution_count": 10
    }
   ],
   "source": [
    "grades_2_train"
   ]
  },
  {
   "cell_type": "code",
   "execution_count": 11,
   "metadata": {},
   "outputs": [],
   "source": [
    "grades_3 = []\n",
    "with open('/data/embryo/method_3/validation_grade.csv', 'r') as read_obj:\n",
    "    csv_dict_reader = DictReader(read_obj)\n",
    "    for row in csv_dict_reader:\n",
    "        grade = row['label']\n",
    "        if grade not in grades_3:\n",
    "            grades_3.append(grade)"
   ]
  },
  {
   "cell_type": "code",
   "execution_count": 12,
   "metadata": {},
   "outputs": [
    {
     "output_type": "execute_result",
     "data": {
      "text/plain": [
       "['aa', 'ab', 'bb', 'bc', 'ba', 'ac']"
      ]
     },
     "metadata": {},
     "execution_count": 12
    }
   ],
   "source": [
    "grades_3"
   ]
  },
  {
   "cell_type": "code",
   "execution_count": 13,
   "metadata": {},
   "outputs": [],
   "source": [
    "grades_3_train = []\n",
    "with open('/data/embryo/method_3/train_grade.csv', 'r') as read_obj:\n",
    "    csv_dict_reader = DictReader(read_obj)\n",
    "    for row in csv_dict_reader:\n",
    "        grade = row['label']\n",
    "        if grade not in grades_3_train:\n",
    "            grades_3_train.append(grade)"
   ]
  },
  {
   "cell_type": "code",
   "execution_count": 14,
   "metadata": {},
   "outputs": [
    {
     "output_type": "execute_result",
     "data": {
      "text/plain": [
       "['ba', 'bc', 'ab', 'aa', 'bb', 'ac', 'cc']"
      ]
     },
     "metadata": {},
     "execution_count": 14
    }
   ],
   "source": [
    "grades_3_train"
   ]
  },
  {
   "cell_type": "code",
   "execution_count": null,
   "metadata": {},
   "outputs": [],
   "source": []
  }
 ]
}