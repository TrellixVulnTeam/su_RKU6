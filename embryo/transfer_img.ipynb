{
 "metadata": {
  "language_info": {
   "codemirror_mode": {
    "name": "ipython",
    "version": 3
   },
   "file_extension": ".py",
   "mimetype": "text/x-python",
   "name": "python",
   "nbconvert_exporter": "python",
   "pygments_lexer": "ipython3",
   "version": "3.7.8-final"
  },
  "orig_nbformat": 2,
  "kernelspec": {
   "name": "python37764bittfgpucondac4ac1646105b4798b1a459472606ff72",
   "display_name": "Python 3.7.7 64-bit ('tf_gpu': conda)"
  }
 },
 "nbformat": 4,
 "nbformat_minor": 2,
 "cells": [
  {
   "cell_type": "code",
   "execution_count": 14,
   "metadata": {},
   "outputs": [],
   "source": [
    "import os\n",
    "from csv import DictReader\n",
    "import shutil\n",
    "import glob\n",
    "import pandas as pd"
   ]
  },
  {
   "cell_type": "code",
   "execution_count": 13,
   "metadata": {},
   "outputs": [],
   "source": [
    "base_dir = '/data/embryo/base'\n",
    "base_lst = os.listdir(base_dir)\n",
    "base_2_dir = os.listdir('/data/embryo/base_2')\n",
    "for embryo in base_2_dir:\n",
    "    if embryo not in base_lst:\n",
    "        base_lst.append(embryo)\n",
    "\n",
    "with open('clinical_data.csv', 'r') as read_obj:\n",
    "    csv_dict_reader = DictReader(read_obj)\n",
    "    for row in csv_dict_reader:\n",
    "        batch = row['Slide ID']\n",
    "        batch = batch.replace('.', '_')\n",
    "        id = row['well.no']\n",
    "        if batch[-1] == 'D':\n",
    "            dir_name = batch + '_pdb_E' + id\n",
    "        elif batch[-1] == 'P':\n",
    "            batch = batch.rsplit('_P', 1)[0]\n",
    "            dir_name = batch + '_E' + id\n",
    "        else:\n",
    "            dir_name = batch + '_E' + id\n",
    "        if dir_name not in base_lst:\n",
    "            old_dir = '/data/embryo/set'\n",
    "            new_dir = '/data/embryo/base_2'\n",
    "            src = os.path.join(old_dir, dir_name)\n",
    "            dest = os.path.join(new_dir, dir_name)\n",
    "            try:\n",
    "                shutil.copytree(src, dest)\n",
    "            except FileNotFoundError:\n",
    "                pass\n",
    "                \n"
   ]
  },
  {
   "cell_type": "code",
   "execution_count": 10,
   "metadata": {},
   "outputs": [
    {
     "output_type": "stream",
     "name": "stdout",
     "text": [
      "425\n17\n['D2017_12_13_S0136_I831', 'D2017_12_13_S0136_I831', 'D2018_01_31_S00154_I0831_D', 'D2019_03_01_S00129_I3171_P', 'D2019_03_01_S00130_I3171_P', 'D2019_05_27_S00459_I0831_D', 'D2019_05_31_S00231_I3171_P', 'D2019_08_04_S00636_I0776_D', 'D2019_08_26_S00363_I3171_P', 'D2019_09_03_S00372_I3171_P', 'D2019_10_04_S00423_I3171_P', 'D2019_10_18_S00449_I3171_P', 'D2019_10_22_S00452_I3171_P', 'D2019_10_22_S00452_I3171_P', 'D2019_11_09_S00488_I3171_P', 'D2019_11_25_S00516_I3171_P', 'D2019_11_26_S00518_I3171_P']\n"
     ]
    }
   ],
   "source": [
    "transferred = []\n",
    "untransferred = []\n",
    "base_dir = os.listdir('/data/embryo/base')\n",
    "base_2_dir = os.listdir('/data/embryo/base_2')\n",
    "for embryo in base_dir:\n",
    "    if embryo not in transferred:\n",
    "        transferred.append(embryo)\n",
    "for embryo in base_2_dir:\n",
    "    if embryo not in transferred:\n",
    "        transferred.append(embryo)\n",
    "\n",
    "with open('clinical_data.csv', 'r') as read_obj:\n",
    "    csv_dict_reader = DictReader(read_obj)\n",
    "    for row in csv_dict_reader:\n",
    "        batch = row['Slide ID']\n",
    "        batch = batch.replace('.', '_')\n",
    "        id = row['well.no']\n",
    "        dir_name = batch + '_pdb_E' + id\n",
    "        if dir_name not in transferred:\n",
    "            if batch[-1] != 'P':\n",
    "                untransferred.append(batch)\n",
    "            else:\n",
    "                new = batch.rsplit('_P', 1)[0]\n",
    "                dir_name = new + '_E' + id\n",
    "                if dir_name not in transferred:\n",
    "                    untransferred.append(batch)\n",
    "\n",
    "print(len(transferred))\n",
    "print(len(untransferred))\n",
    "print(untransferred)\n",
    "        \n"
   ]
  },
  {
   "cell_type": "code",
   "execution_count": 11,
   "metadata": {},
   "outputs": [
    {
     "output_type": "stream",
     "name": "stdout",
     "text": [
      "15\n"
     ]
    }
   ],
   "source": [
    "pdb_lst = []\n",
    "for batch_name in untransferred:\n",
    "    pdb = batch_name + '.pdb'\n",
    "    pdb = pdb.replace('_', '.', 2)\n",
    "    pdb = '/data/embryo/pdb/' + pdb\n",
    "    if pdb not in pdb_lst:\n",
    "        pdb_lst.append(pdb)\n",
    "print(len(pdb_lst))"
   ]
  },
  {
   "cell_type": "code",
   "execution_count": 12,
   "metadata": {},
   "outputs": [
    {
     "output_type": "execute_result",
     "data": {
      "text/plain": [
       "['/data/embryo/pdb/D2017.12.13_S0136_I831.pdb',\n",
       " '/data/embryo/pdb/D2018.01.31_S00154_I0831_D.pdb',\n",
       " '/data/embryo/pdb/D2019.03.01_S00129_I3171_P.pdb',\n",
       " '/data/embryo/pdb/D2019.03.01_S00130_I3171_P.pdb',\n",
       " '/data/embryo/pdb/D2019.05.27_S00459_I0831_D.pdb',\n",
       " '/data/embryo/pdb/D2019.05.31_S00231_I3171_P.pdb',\n",
       " '/data/embryo/pdb/D2019.08.04_S00636_I0776_D.pdb',\n",
       " '/data/embryo/pdb/D2019.08.26_S00363_I3171_P.pdb',\n",
       " '/data/embryo/pdb/D2019.09.03_S00372_I3171_P.pdb',\n",
       " '/data/embryo/pdb/D2019.10.04_S00423_I3171_P.pdb',\n",
       " '/data/embryo/pdb/D2019.10.18_S00449_I3171_P.pdb',\n",
       " '/data/embryo/pdb/D2019.10.22_S00452_I3171_P.pdb',\n",
       " '/data/embryo/pdb/D2019.11.09_S00488_I3171_P.pdb',\n",
       " '/data/embryo/pdb/D2019.11.25_S00516_I3171_P.pdb',\n",
       " '/data/embryo/pdb/D2019.11.26_S00518_I3171_P.pdb']"
      ]
     },
     "metadata": {},
     "execution_count": 12
    }
   ],
   "source": [
    "pdb_lst"
   ]
  },
  {
   "cell_type": "code",
   "execution_count": 15,
   "metadata": {},
   "outputs": [],
   "source": [
    "os.chdir('/data/embryo/csv')"
   ]
  },
  {
   "cell_type": "code",
   "execution_count": 16,
   "metadata": {},
   "outputs": [],
   "source": [
    "extension = 'csv'\n",
    "all_filenames = [i for i in glob.glob('*.{}'.format(extension))]"
   ]
  },
  {
   "cell_type": "code",
   "execution_count": 17,
   "metadata": {},
   "outputs": [],
   "source": [
    "combined_csv = pd.concat([pd.read_csv(f) for f in all_filenames ])\n",
    "combined_csv.to_csv( \"final_max_mask.csv\", index=False, encoding='utf-8-sig')\n"
   ]
  },
  {
   "cell_type": "code",
   "execution_count": null,
   "metadata": {},
   "outputs": [],
   "source": []
  }
 ]
}